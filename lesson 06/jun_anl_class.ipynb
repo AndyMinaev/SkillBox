{
 "cells": [
  {
   "cell_type": "markdown",
   "metadata": {
    "colab_type": "text",
    "id": "RbR5OTe50Za4"
   },
   "source": [
    "# Классы\n",
    "## Домашнее задание"
   ]
  },
  {
   "cell_type": "markdown",
   "metadata": {
    "colab_type": "text",
    "id": "Xh_DBCdu0Za5"
   },
   "source": [
    "### Вопросы по лекциям\n",
    "\n",
    "#### 1.\n",
    "\n",
    "Напишите название функции, которая является конструктором класса."
   ]
  },
  {
   "cell_type": "markdown",
   "metadata": {
    "colab_type": "text",
    "id": "8-Tj4AMg0Za6"
   },
   "source": [
    "**Ответ:** Нашел в лекции) def __init__(self):"
   ]
  },
  {
   "cell_type": "markdown",
   "metadata": {
    "colab_type": "text",
    "id": "lf14yx330Za7"
   },
   "source": [
    "#### 2.\n",
    "\n",
    "На что указывает переменная `self`?"
   ]
  },
  {
   "cell_type": "markdown",
   "metadata": {
    "colab_type": "text",
    "id": "wI-0FWlF0Za8"
   },
   "source": [
    "**Ответ:** сама на себя - на объект (инстанс) класса, с которым происходят какие-либо действия"
   ]
  },
  {
   "cell_type": "markdown",
   "metadata": {
    "colab_type": "text",
    "id": "j_8_O_nl0Za8"
   },
   "source": [
    "#### 3.\n",
    "С помощью какой функции можно проверить, что некая строка является именем одного из атрибутов объекта?"
   ]
  },
  {
   "cell_type": "markdown",
   "metadata": {
    "colab_type": "text",
    "id": "5h8ASTrV0Za9"
   },
   "source": [
    "**Ответ:** hasattr(объект, название_атрибута)"
   ]
  },
  {
   "cell_type": "markdown",
   "metadata": {
    "colab_type": "text",
    "id": "G104VWgj0Za-"
   },
   "source": [
    "#### 4.\n",
    "Когда вызывается метод `__del__`? (относительно события удаления объекта)"
   ]
  },
  {
   "cell_type": "markdown",
   "metadata": {
    "colab_type": "text",
    "id": "Ukzoyxkn0Za-"
   },
   "source": [
    "**Ответ:** По идее, в тот момент, когда не остается ни одной ссылки на объект, запускается метод __del__, а затем удаляется сам объект. Но на практике удаление объекта может случиться чуть позднее"
   ]
  },
  {
   "cell_type": "markdown",
   "metadata": {
    "colab_type": "text",
    "id": "MkF-HyBM0ZbA"
   },
   "source": [
    "#### 5.\n",
    "Верно ли, что атрибут класса перекрывает атрибут объекта?"
   ]
  },
  {
   "cell_type": "markdown",
   "metadata": {
    "colab_type": "text",
    "id": "o7B52kVt0ZbC"
   },
   "source": [
    "**Ответ:** Нет. Значения атрибутов отдельных объектов могут перезаписывать значения атрибутов класса. Но если у объекту эти атрибуты не заданы, то он наследует классовые значения"
   ]
  },
  {
   "cell_type": "markdown",
   "metadata": {
    "colab_type": "text",
    "id": "kSwZWV2B0ZbC"
   },
   "source": [
    "#### 6.\n",
    "Можно ли атрибуты базового класса вызывать в дочернем классе? Если да, то напишите, нет ли исклчений?"
   ]
  },
  {
   "cell_type": "markdown",
   "metadata": {
    "colab_type": "text",
    "id": "6i74Koih0ZbE"
   },
   "source": [
    "**Ответ:** Можно за исключением атрибутов, названия которых начинаются с двойного подчеркивания - такие атрибуты доступны только в базовом классе"
   ]
  },
  {
   "cell_type": "markdown",
   "metadata": {
    "colab_type": "text",
    "id": "tl1St2O20ZbE"
   },
   "source": [
    "#### 7.\n",
    "Объясните своими словами для чего нужен метод `super`."
   ]
  },
  {
   "cell_type": "markdown",
   "metadata": {
    "colab_type": "text",
    "id": "rg3u1PoY0ZbF"
   },
   "source": [
    "**Ответ:** для вызова родительского метода (особенно если он был переопределен в дочернем классе), без указания конкретного класса родителя"
   ]
  },
  {
   "cell_type": "markdown",
   "metadata": {
    "colab_type": "text",
    "id": "5AiJn8ut0ZbG"
   },
   "source": [
    "### Практика\n",
    "\n",
    "1. Напишите класс `Fraction` для работы с дробями. Пусть дробь в нашем классе предстает в виде `числитель/знаменатель`. Дробное число должно создаваться по запросу `Fraction(a, b)`, где `a` – это числитель, а `b` – знаменатель дроби. \n",
    "2. Добавьте возможность сложения (сложения через оператор сложения) для дроби. Предполагается, что операция сложения может проводиться как только между дробями, так и между дробью и целым числом. Результат операции должен быть представлен в виде дроби.\n",
    "3. Добавьте возможность взятия разности (вычитания через оператор вычитания) для дробей. Предполагается, что операция вычитания может проводиться как только для двух дробей, так и для дроби и целого числа. Результат операции должен быть представлен в виде дроби.\n",
    "4. Добавьте возможность умножения (умножения через оператор умножения) для дробей. Предполагается, что операция умножения может проводиться как только для двух дробей, так и для дроби и целого числа. Результат операции должен быть представлен в виде дроби.\n",
    "5. Добавьте возможность приведения дроби к целому числу через стандартную функцию `int()`.\n",
    "6. Добавьте возможность приведения дроби к числу с плавающей точкой через стандартную функцию `float()`.\n",
    "7. Создайте дочерний класс `OperationsOnFraction` и добавьте туда собственные методы `getint` и `getfloat`, которые будут возвращать целую часть дроби и представление дроби в виде числа с плавающей точкой соответственно. \n",
    " "
   ]
  },
  {
   "cell_type": "code",
   "execution_count": 1,
   "metadata": {
    "colab": {},
    "colab_type": "code",
    "id": "ru3BJ52J0ZbG"
   },
   "outputs": [
    {
     "name": "stdout",
     "output_type": "stream",
     "text": [
      "3/2 + 1/4 = 14/8\n",
      "3/2 + 2 = 7/2\n",
      "2 + 3/2 = 7/2\n",
      "\n",
      "3/2 - 1/4 = 10/8\n",
      "3/2 - 2 = -1/2\n",
      "2 - 3/2 = 1/2\n",
      "\n",
      "3/2 * 1/4 = 3/8\n",
      "3/2 * 2 = 6/2\n",
      "2 * 3/2 = 6/2\n",
      "\n",
      "Приведение к целому числу дроби 3/2 = 2\n",
      "Приведение к целому числу дроби 1/4 = 0\n",
      "Приведение к числу с плавающей точкой дроби 3/2 = 1.5\n",
      "Приведение к числу с плавающей точкой дроби 1/4 = 0.25\n",
      "\n",
      "Приведение к целому числу дроби дочернего класса 4/5 = 1\n",
      "Приведение к числу c плавающей точкой дроби дочернего класса 4/5 = 0.8\n"
     ]
    }
   ],
   "source": [
    "class Fraction:\n",
    "\n",
    "    def __init__(self, a, b):\n",
    "        self.numerator = a\n",
    "        self.denominator = b\n",
    "\n",
    "    def __str__(self):\n",
    "        return '{}/{}'.format(self.numerator, self.denominator)\n",
    "\n",
    "    def __add__(self, other):\n",
    "        numerator = self.numerator\n",
    "        denominator = self.denominator\n",
    "        if isinstance(other, int):\n",
    "            numerator += other * denominator\n",
    "        else:\n",
    "            if isinstance(other, Fraction):\n",
    "                if denominator != other.denominator:\n",
    "                    # приводим дробь к единому знаменателю, правда не меньшему, лень заморачиваться :)\n",
    "                    numerator = numerator * other.denominator + other.numerator * denominator\n",
    "                    denominator *= other.denominator\n",
    "                result = Fraction(numerator, denominator)\n",
    "                return result\n",
    "            else:\n",
    "                return 'Ошибка ввода данных'\n",
    "        result = Fraction(numerator, denominator)\n",
    "        return result\n",
    "\n",
    "    def __radd__(self, other):\n",
    "        numerator = self.numerator\n",
    "        denominator = self.denominator\n",
    "        if isinstance(other, int):\n",
    "            numerator += other * denominator\n",
    "        else:\n",
    "            return 'Ошибка ввода данных'\n",
    "        result = Fraction(numerator, denominator)\n",
    "        return result\n",
    "\n",
    "    def __sub__(self, other):\n",
    "        numerator = self.numerator\n",
    "        denominator = self.denominator\n",
    "        if isinstance(other, int):\n",
    "            numerator -= other * denominator\n",
    "        else:\n",
    "            if isinstance(other, Fraction):\n",
    "                if denominator != other.denominator:\n",
    "                    # приводим дробь к единому знаменателю, правда не меньшему, лень заморачиваться :)\n",
    "                    numerator = numerator * other.denominator - other.numerator * denominator\n",
    "                    denominator *= other.denominator\n",
    "                # складываем числители и выводим итоговый результат\n",
    "                result = Fraction(numerator, denominator)\n",
    "                return result\n",
    "            else:\n",
    "                return 'Ошибка ввода данных'\n",
    "        result = Fraction(numerator, denominator)\n",
    "        return result\n",
    "\n",
    "    def __rsub__(self, other):\n",
    "        numerator = self.numerator\n",
    "        denominator = self.denominator\n",
    "        if isinstance(other, int):\n",
    "            numerator = other * denominator - numerator\n",
    "        else:\n",
    "            return 'Ошибка ввода данных'\n",
    "        result = Fraction(numerator, denominator)\n",
    "        return result\n",
    "\n",
    "    def __mul__(self, other):\n",
    "        numerator = self.numerator\n",
    "        denominator = self.denominator\n",
    "        if isinstance(other, int):\n",
    "            numerator *= other\n",
    "        else:\n",
    "            if isinstance(other, Fraction):\n",
    "                numerator *= other.numerator\n",
    "                denominator *= other.denominator\n",
    "                result = Fraction(numerator, denominator)\n",
    "                return result\n",
    "            else:\n",
    "                return 'Ошибка ввода данных'\n",
    "        result = Fraction(numerator, denominator)\n",
    "        return result\n",
    "\n",
    "    def __rmul__(self, other):\n",
    "        numerator = self.numerator\n",
    "        denominator = self.denominator\n",
    "        if isinstance(other, int):\n",
    "            numerator *= other\n",
    "        else:\n",
    "            return 'Ошибка ввода данных'\n",
    "        result = Fraction(numerator, denominator)\n",
    "        return result\n",
    "\n",
    "    def __int__(self):\n",
    "        if (self.numerator % self.denominator) / self.denominator >= 0.5:\n",
    "            return self.numerator // self.denominator + 1\n",
    "        else:\n",
    "            return self.numerator // self.denominator\n",
    "\n",
    "    def __float__(self):\n",
    "        return self.numerator / self.denominator\n",
    "\n",
    "\n",
    "class OperationsOnFraction(Fraction):\n",
    "\n",
    "    def getint(self):\n",
    "        res = super().__int__()\n",
    "        print('Приведение к целому числу дроби дочернего класса {} = {}'.format(self, res))\n",
    "\n",
    "    def getfloat(self):\n",
    "        res = super().__float__()\n",
    "        print('Приведение к числу c плавающей точкой дроби дочернего класса {} = {}'.format(self, res))\n",
    "\n",
    "\n",
    "\n",
    "number_1 = Fraction(3, 2)\n",
    "number_2 = Fraction(1, 4)\n",
    "# сложение\n",
    "print('{} + {} = {}'.format(number_1, number_2, number_1 + number_2))\n",
    "print('{} + {} = {}'.format(number_1, 2, number_1 + 2))\n",
    "print('{} + {} = {}'.format(2, number_1, 2 + number_1))\n",
    "print()\n",
    "\n",
    "# вычитание\n",
    "print('{} - {} = {}'.format(number_1, number_2, number_1 - number_2))\n",
    "print('{} - {} = {}'.format(number_1, 2, number_1 - 2))\n",
    "print('{} - {} = {}'.format(2, number_1, 2 - number_1))\n",
    "print()\n",
    "\n",
    "# умножение\n",
    "print('{} * {} = {}'.format(number_1, number_2, number_1 * number_2))\n",
    "print('{} * {} = {}'.format(number_1, 2, number_1 * 2))\n",
    "print('{} * {} = {}'.format(2, number_1, 2 * number_1))\n",
    "print()\n",
    "\n",
    "# приведение к int и float\n",
    "print('Приведение к целому числу дроби {} = {}'.format(number_1, number_1.__int__()))\n",
    "print('Приведение к целому числу дроби {} = {}'.format(number_2, number_2.__int__()))\n",
    "print('Приведение к числу с плавающей точкой дроби {} = {}'.format(number_1, number_1.__float__()))\n",
    "print('Приведение к числу с плавающей точкой дроби {} = {}'.format(number_2, number_2.__float__()))\n",
    "print()\n",
    "\n",
    "# операции с дочерним классом\n",
    "number_3 = OperationsOnFraction(4, 5)\n",
    "number_3.getint()\n",
    "number_3.getfloat()"
   ]
  },
  {
   "cell_type": "code",
   "execution_count": null,
   "metadata": {},
   "outputs": [],
   "source": []
  }
 ],
 "metadata": {
  "colab": {
   "collapsed_sections": [],
   "name": "jun_anl_class.ipynb",
   "provenance": []
  },
  "kernelspec": {
   "display_name": "Python 3",
   "language": "python",
   "name": "python3"
  },
  "language_info": {
   "codemirror_mode": {
    "name": "ipython",
    "version": 3
   },
   "file_extension": ".py",
   "mimetype": "text/x-python",
   "name": "python",
   "nbconvert_exporter": "python",
   "pygments_lexer": "ipython3",
   "version": "3.8.5"
  }
 },
 "nbformat": 4,
 "nbformat_minor": 1
}
